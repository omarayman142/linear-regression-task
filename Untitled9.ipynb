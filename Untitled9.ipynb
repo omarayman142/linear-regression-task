{
  "nbformat": 4,
  "nbformat_minor": 0,
  "metadata": {
    "colab": {
      "provenance": [],
      "gpuType": "T4",
      "authorship_tag": "ABX9TyOfDRMr4/O77DQObkoUA6of",
      "include_colab_link": true
    },
    "kernelspec": {
      "name": "python3",
      "display_name": "Python 3"
    },
    "language_info": {
      "name": "python"
    },
    "accelerator": "GPU"
  },
  "cells": [
    {
      "cell_type": "markdown",
      "metadata": {
        "id": "view-in-github",
        "colab_type": "text"
      },
      "source": [
        "<a href=\"https://colab.research.google.com/github/omarayman142/linear-regression-task/blob/main/Untitled9.ipynb\" target=\"_parent\"><img src=\"https://colab.research.google.com/assets/colab-badge.svg\" alt=\"Open In Colab\"/></a>"
      ]
    },
    {
      "cell_type": "code",
      "source": [
        "# ---- 1. رفع ملف kaggle.json من جهازك ----\n",
        "from google.colab import files\n",
        "files.upload()  # ← اختار ملف kaggle.json اللي نزلته من موقع Kaggle\n",
        "!ls\n",
        "\n",
        "\n"
      ],
      "metadata": {
        "colab": {
          "base_uri": "https://localhost:8080/",
          "height": 90
        },
        "id": "SviYURjMgLV0",
        "outputId": "40aec3b8-4e00-455d-db9e-f2bf5c0e4ce2"
      },
      "execution_count": null,
      "outputs": [
        {
          "output_type": "display_data",
          "data": {
            "text/plain": [
              "<IPython.core.display.HTML object>"
            ],
            "text/html": [
              "\n",
              "     <input type=\"file\" id=\"files-e2cc40ef-684b-4960-9d11-dd8f1cca5645\" name=\"files[]\" multiple disabled\n",
              "        style=\"border:none\" />\n",
              "     <output id=\"result-e2cc40ef-684b-4960-9d11-dd8f1cca5645\">\n",
              "      Upload widget is only available when the cell has been executed in the\n",
              "      current browser session. Please rerun this cell to enable.\n",
              "      </output>\n",
              "      <script>// Copyright 2017 Google LLC\n",
              "//\n",
              "// Licensed under the Apache License, Version 2.0 (the \"License\");\n",
              "// you may not use this file except in compliance with the License.\n",
              "// You may obtain a copy of the License at\n",
              "//\n",
              "//      http://www.apache.org/licenses/LICENSE-2.0\n",
              "//\n",
              "// Unless required by applicable law or agreed to in writing, software\n",
              "// distributed under the License is distributed on an \"AS IS\" BASIS,\n",
              "// WITHOUT WARRANTIES OR CONDITIONS OF ANY KIND, either express or implied.\n",
              "// See the License for the specific language governing permissions and\n",
              "// limitations under the License.\n",
              "\n",
              "/**\n",
              " * @fileoverview Helpers for google.colab Python module.\n",
              " */\n",
              "(function(scope) {\n",
              "function span(text, styleAttributes = {}) {\n",
              "  const element = document.createElement('span');\n",
              "  element.textContent = text;\n",
              "  for (const key of Object.keys(styleAttributes)) {\n",
              "    element.style[key] = styleAttributes[key];\n",
              "  }\n",
              "  return element;\n",
              "}\n",
              "\n",
              "// Max number of bytes which will be uploaded at a time.\n",
              "const MAX_PAYLOAD_SIZE = 100 * 1024;\n",
              "\n",
              "function _uploadFiles(inputId, outputId) {\n",
              "  const steps = uploadFilesStep(inputId, outputId);\n",
              "  const outputElement = document.getElementById(outputId);\n",
              "  // Cache steps on the outputElement to make it available for the next call\n",
              "  // to uploadFilesContinue from Python.\n",
              "  outputElement.steps = steps;\n",
              "\n",
              "  return _uploadFilesContinue(outputId);\n",
              "}\n",
              "\n",
              "// This is roughly an async generator (not supported in the browser yet),\n",
              "// where there are multiple asynchronous steps and the Python side is going\n",
              "// to poll for completion of each step.\n",
              "// This uses a Promise to block the python side on completion of each step,\n",
              "// then passes the result of the previous step as the input to the next step.\n",
              "function _uploadFilesContinue(outputId) {\n",
              "  const outputElement = document.getElementById(outputId);\n",
              "  const steps = outputElement.steps;\n",
              "\n",
              "  const next = steps.next(outputElement.lastPromiseValue);\n",
              "  return Promise.resolve(next.value.promise).then((value) => {\n",
              "    // Cache the last promise value to make it available to the next\n",
              "    // step of the generator.\n",
              "    outputElement.lastPromiseValue = value;\n",
              "    return next.value.response;\n",
              "  });\n",
              "}\n",
              "\n",
              "/**\n",
              " * Generator function which is called between each async step of the upload\n",
              " * process.\n",
              " * @param {string} inputId Element ID of the input file picker element.\n",
              " * @param {string} outputId Element ID of the output display.\n",
              " * @return {!Iterable<!Object>} Iterable of next steps.\n",
              " */\n",
              "function* uploadFilesStep(inputId, outputId) {\n",
              "  const inputElement = document.getElementById(inputId);\n",
              "  inputElement.disabled = false;\n",
              "\n",
              "  const outputElement = document.getElementById(outputId);\n",
              "  outputElement.innerHTML = '';\n",
              "\n",
              "  const pickedPromise = new Promise((resolve) => {\n",
              "    inputElement.addEventListener('change', (e) => {\n",
              "      resolve(e.target.files);\n",
              "    });\n",
              "  });\n",
              "\n",
              "  const cancel = document.createElement('button');\n",
              "  inputElement.parentElement.appendChild(cancel);\n",
              "  cancel.textContent = 'Cancel upload';\n",
              "  const cancelPromise = new Promise((resolve) => {\n",
              "    cancel.onclick = () => {\n",
              "      resolve(null);\n",
              "    };\n",
              "  });\n",
              "\n",
              "  // Wait for the user to pick the files.\n",
              "  const files = yield {\n",
              "    promise: Promise.race([pickedPromise, cancelPromise]),\n",
              "    response: {\n",
              "      action: 'starting',\n",
              "    }\n",
              "  };\n",
              "\n",
              "  cancel.remove();\n",
              "\n",
              "  // Disable the input element since further picks are not allowed.\n",
              "  inputElement.disabled = true;\n",
              "\n",
              "  if (!files) {\n",
              "    return {\n",
              "      response: {\n",
              "        action: 'complete',\n",
              "      }\n",
              "    };\n",
              "  }\n",
              "\n",
              "  for (const file of files) {\n",
              "    const li = document.createElement('li');\n",
              "    li.append(span(file.name, {fontWeight: 'bold'}));\n",
              "    li.append(span(\n",
              "        `(${file.type || 'n/a'}) - ${file.size} bytes, ` +\n",
              "        `last modified: ${\n",
              "            file.lastModifiedDate ? file.lastModifiedDate.toLocaleDateString() :\n",
              "                                    'n/a'} - `));\n",
              "    const percent = span('0% done');\n",
              "    li.appendChild(percent);\n",
              "\n",
              "    outputElement.appendChild(li);\n",
              "\n",
              "    const fileDataPromise = new Promise((resolve) => {\n",
              "      const reader = new FileReader();\n",
              "      reader.onload = (e) => {\n",
              "        resolve(e.target.result);\n",
              "      };\n",
              "      reader.readAsArrayBuffer(file);\n",
              "    });\n",
              "    // Wait for the data to be ready.\n",
              "    let fileData = yield {\n",
              "      promise: fileDataPromise,\n",
              "      response: {\n",
              "        action: 'continue',\n",
              "      }\n",
              "    };\n",
              "\n",
              "    // Use a chunked sending to avoid message size limits. See b/62115660.\n",
              "    let position = 0;\n",
              "    do {\n",
              "      const length = Math.min(fileData.byteLength - position, MAX_PAYLOAD_SIZE);\n",
              "      const chunk = new Uint8Array(fileData, position, length);\n",
              "      position += length;\n",
              "\n",
              "      const base64 = btoa(String.fromCharCode.apply(null, chunk));\n",
              "      yield {\n",
              "        response: {\n",
              "          action: 'append',\n",
              "          file: file.name,\n",
              "          data: base64,\n",
              "        },\n",
              "      };\n",
              "\n",
              "      let percentDone = fileData.byteLength === 0 ?\n",
              "          100 :\n",
              "          Math.round((position / fileData.byteLength) * 100);\n",
              "      percent.textContent = `${percentDone}% done`;\n",
              "\n",
              "    } while (position < fileData.byteLength);\n",
              "  }\n",
              "\n",
              "  // All done.\n",
              "  yield {\n",
              "    response: {\n",
              "      action: 'complete',\n",
              "    }\n",
              "  };\n",
              "}\n",
              "\n",
              "scope.google = scope.google || {};\n",
              "scope.google.colab = scope.google.colab || {};\n",
              "scope.google.colab._files = {\n",
              "  _uploadFiles,\n",
              "  _uploadFilesContinue,\n",
              "};\n",
              "})(self);\n",
              "</script> "
            ]
          },
          "metadata": {}
        },
        {
          "output_type": "stream",
          "name": "stdout",
          "text": [
            "Saving kaggle (1).json to kaggle (1).json\n",
            "'kaggle (1).json'   sample_data   US_Accidents_March23.csv   us-accidents.zip\n"
          ]
        }
      ]
    },
    {
      "cell_type": "code",
      "source": [
        "# ---- 2. إعداد ملف kaggle.json ----\n",
        "!mv \"kaggle (1).json\" kaggle.json\n",
        "\n",
        "!mkdir -p ~/.kaggle\n",
        "!mv kaggle.json ~/.kaggle/\n",
        "!chmod 600 ~/.kaggle/kaggle.json\n",
        "\n",
        "# ---- 3. تحميل الـ dataset من Kaggle ----\n",
        "!kaggle datasets download -d sobhanmoosavi/us-accidents\n",
        "\n",
        "# ---- 4. فك الضغط ----\n",
        "!unzip us-accidents.zip\n",
        "\n",
        "# ---- 5. قراءة الـ dataset بالـ pandas ----\n",
        "import pandas as pd\n",
        "import pandas as pd\n",
        "\n",
        "# اقرأ أول 500 ألف صف فقط\n",
        "df = pd.read_csv(\"US_Accidents_March23.csv\", nrows=500000)\n",
        "print(df.shape)\n",
        "\n",
        "df.head()\n"
      ],
      "metadata": {
        "colab": {
          "base_uri": "https://localhost:8080/"
        },
        "id": "qZFmd6J3gdzO",
        "outputId": "862f43eb-68db-4bb3-8e9d-d475eb78d6f7"
      },
      "execution_count": null,
      "outputs": [
        {
          "output_type": "stream",
          "name": "stdout",
          "text": [
            "Dataset URL: https://www.kaggle.com/datasets/sobhanmoosavi/us-accidents\n",
            "License(s): CC-BY-NC-SA-4.0\n",
            "^C\n",
            "Archive:  us-accidents.zip\n",
            "replace US_Accidents_March23.csv? [y]es, [n]o, [A]ll, [N]one, [r]ename: "
          ]
        }
      ]
    },
    {
      "cell_type": "code",
      "source": [
        "import missingno\n",
        "missingno.bar(df)"
      ],
      "metadata": {
        "id": "ncumxfZHjqrD"
      },
      "execution_count": null,
      "outputs": []
    },
    {
      "cell_type": "code",
      "source": [
        "df.info()\n"
      ],
      "metadata": {
        "id": "OSt_6K12jy9a"
      },
      "execution_count": null,
      "outputs": []
    },
    {
      "cell_type": "code",
      "source": [
        "df.isnull().sum()"
      ],
      "metadata": {
        "id": "h8Qzw047j1d8"
      },
      "execution_count": null,
      "outputs": []
    },
    {
      "cell_type": "code",
      "source": [
        "df.drop_duplicates(inplace=True)"
      ],
      "metadata": {
        "id": "Si8rcDpBj6o2"
      },
      "execution_count": null,
      "outputs": []
    },
    {
      "cell_type": "code",
      "source": [
        "df['Start_Time'] = pd.to_datetime(df['Start_Time'], format='mixed', errors='coerce')\n",
        "df['End_Time'] = pd.to_datetime(df['End_Time'], format='mixed', errors='coerce')\n",
        "\n",
        "\n",
        "df['YearOfStart'] = df['Start_Time'].dt.year\n",
        "df['MonthOfStart'] = df['Start_Time'].dt.month\n",
        "df['DayOfStart'] = df['Start_Time'].dt.day\n",
        "df['Start Day'] = df['Start_Time'].dt.day_name()\n",
        "\n",
        "df['YearOfEnd'] = df['End_Time'].dt.year\n",
        "df['MonthOfEnd'] = df['End_Time'].dt.month\n",
        "df['DayOfEnd'] = df['End_Time'].dt.day\n",
        "df['End Day'] = df['End_Time'].dt.day_name()\n",
        "\n",
        "df['Start_time_of_accident'] = df['Start_Time'].dt.time\n",
        "df['End_time_of_accident'] = df['End_Time'].dt.time\n",
        "\n",
        "df.City.unique()\n"
      ],
      "metadata": {
        "id": "YRWj7Ym7j_84"
      },
      "execution_count": null,
      "outputs": []
    },
    {
      "cell_type": "code",
      "source": [
        "df=df.drop([\"End_Lat\",\"End_Lng\",\"Precipitation(in)\",\"Wind_Chill(F)\"],axis=1)"
      ],
      "metadata": {
        "id": "NO0T-lsTkFmi"
      },
      "execution_count": null,
      "outputs": []
    },
    {
      "cell_type": "code",
      "source": [
        "city_by_acc=df.City.value_counts()\n",
        "city_by_acc[:20]"
      ],
      "metadata": {
        "id": "WnGWKQpLkWMl"
      },
      "execution_count": null,
      "outputs": []
    },
    {
      "cell_type": "code",
      "source": [
        "import seaborn as sns\n",
        "import matplotlib.pyplot as plt\n",
        "\n",
        "fig, axes = plt.subplots(1, 2, figsize=(12, 5))\n",
        "\n",
        "sns.histplot(df.Start_Time.dt.hour, bins=24, stat='density', ax=axes[0])\n",
        "axes[0].set_title('Distribution of Accidents by Hour')\n",
        "axes[0].set_xlabel('Hour of Day')\n",
        "axes[0].set_ylabel('Density')\n",
        "\n",
        "\n",
        "sns.histplot(df.Start_Time.dt.dayofweek, bins=24, stat='density', ax=axes[1])\n",
        "axes[1].set_title('Distribution of Accidents by Day of Week')\n",
        "axes[1].set_xlabel('Day of Week (0=Monday, 6=Sunday)')\n",
        "axes[1].set_ylabel('Density')\n",
        "\n",
        "plt.tight_layout()\n",
        "plt.show()"
      ],
      "metadata": {
        "id": "B-fMd9VVkZxo"
      },
      "execution_count": null,
      "outputs": []
    },
    {
      "cell_type": "code",
      "source": [
        "df.Weather_Condition.value_counts()"
      ],
      "metadata": {
        "id": "4uO41mcMk93g"
      },
      "execution_count": null,
      "outputs": []
    },
    {
      "cell_type": "code",
      "source": [
        "df[[\"Civil_Twilight\", \"Start Day\"]].value_counts()"
      ],
      "metadata": {
        "id": "ySIfCA6KlDu9"
      },
      "execution_count": null,
      "outputs": []
    },
    {
      "cell_type": "code",
      "source": [
        "df[[\"Visibility(mi)\"]].value_counts()"
      ],
      "metadata": {
        "id": "uCQ_yWETlSL-"
      },
      "execution_count": null,
      "outputs": []
    },
    {
      "cell_type": "code",
      "source": [
        "df[[\"Severity\"]].value_counts()"
      ],
      "metadata": {
        "id": "lLT7GixXlaiu"
      },
      "execution_count": null,
      "outputs": []
    },
    {
      "cell_type": "code",
      "source": [
        "import matplotlib.pyplot as plt\n",
        "import seaborn as sns\n",
        "\n",
        "days = ['Monday', 'Tuesday', 'Wednesday', 'Thursday', 'Friday', 'Saturday', 'Sunday']\n",
        "\n",
        "fig, axes = plt.subplots(4, 2, figsize=(15, 20))\n",
        "axes = axes.flatten()\n",
        "\n",
        "for i, day in enumerate(days):\n",
        "    day_start_time = df.Start_Time[df['Start Day'] == day]\n",
        "    sns.histplot(day_start_time.dt.hour, bins=24, stat='density', ax=axes[i])\n",
        "    axes[i].set_title(f'Distribution of Accidents on {day}')\n",
        "    axes[i].set_xlabel('Hour of Day')\n",
        "    axes[i].set_ylabel('Density')\n",
        "\n",
        "# Remove the unused subplot\n",
        "fig.delaxes(axes[-1])\n",
        "\n",
        "plt.tight_layout()\n",
        "plt.show()"
      ],
      "metadata": {
        "id": "szasgSYAldFm"
      },
      "execution_count": null,
      "outputs": []
    },
    {
      "cell_type": "code",
      "source": [
        "df.groupby([\"YearOfStart\",\"Severity\"]).size().unstack()"
      ],
      "metadata": {
        "id": "7oRw7-OdmHB2"
      },
      "execution_count": null,
      "outputs": []
    },
    {
      "cell_type": "code",
      "source": [
        "import seaborn as sns\n",
        "import matplotlib.pyplot as plt\n",
        "\n",
        "fig, axes = plt.subplots(1, 3, figsize=(18, 6))\n",
        "\n",
        "sns.boxplot(x=\"Severity\", y=\"Temperature(F)\", data=df, palette=\"Set1\", ax=axes[0])\n",
        "axes[0].set_title('Temperature vs Severity')\n",
        "\n",
        "sns.boxplot(x=\"Severity\", y=\"Humidity(%)\", data=df, palette=\"Set1\", ax=axes[1])\n",
        "axes[1].set_title('Humidity vs Severity')\n",
        "\n",
        "sns.boxplot(x=\"Severity\", y=\"Visibility(mi)\", data=df, palette=\"Set1\", ax=axes[2])\n",
        "axes[2].set_title('Visibility vs Severity')\n",
        "\n",
        "\n",
        "plt.tight_layout()\n",
        "plt.show()"
      ],
      "metadata": {
        "id": "PAw1dszJmj23"
      },
      "execution_count": null,
      "outputs": []
    },
    {
      "cell_type": "code",
      "source": [
        "pd.crosstab(df[\"Severity\"], df[\"Sunrise_Sunset\"],\n",
        "            rownames=['Severity'], colnames=['Sunrise_Sunset'])"
      ],
      "metadata": {
        "id": "IqD47LnGm4lT"
      },
      "execution_count": null,
      "outputs": []
    },
    {
      "cell_type": "code",
      "source": [
        "df.head()"
      ],
      "metadata": {
        "id": "VhIy7ykxnBqq"
      },
      "execution_count": null,
      "outputs": []
    },
    {
      "cell_type": "code",
      "source": [
        "df=df.drop([\"ID\",\"Source\",\"Start_Time\",\n",
        "            \"End_Time\",\"Start_Lat\",\"Start_Lng\",\"Description\",\"Zipcode\",\n",
        "            \"Country\",\"Airport_Code\",\"Timezone\"],axis=1)"
      ],
      "metadata": {
        "id": "odmta_59m9JI"
      },
      "execution_count": null,
      "outputs": []
    },
    {
      "cell_type": "code",
      "source": [
        "df=df.drop([\"Street\",\"City\",\"Weather_Timestamp\",\"Wind_Direction\",\"Wind_Speed(mph)\",\n",
        "            ],axis=1)\n",
        "df=df.drop([\"YearOfEnd\",\"MonthOfEnd\",\"DayOfEnd\",\"End Day\"\n",
        "            ],axis=1)"
      ],
      "metadata": {
        "id": "0zNbyQT_nQtB"
      },
      "execution_count": null,
      "outputs": []
    },
    {
      "cell_type": "code",
      "source": [
        "import numpy as np\n",
        "import seaborn as sns\n",
        "import matplotlib.pyplot as plt\n",
        "\n",
        "# Drop non-numeric columns before calculating correlation\n",
        "df_numeric = df.select_dtypes(include=np.number)\n",
        "\n",
        "corr = df_numeric.corr()\n",
        "plt.figure(figsize=(10, 10))\n",
        "sns.heatmap(corr, annot=True, cmap='coolwarm')\n",
        "plt.title('Correlation Heatmap')\n",
        "plt.show()"
      ],
      "metadata": {
        "id": "vCvr0YKznuhq"
      },
      "execution_count": null,
      "outputs": []
    },
    {
      "cell_type": "code",
      "source": [],
      "metadata": {
        "id": "7CfkxCtRowBK"
      },
      "execution_count": null,
      "outputs": []
    },
    {
      "cell_type": "code",
      "metadata": {
        "id": "89375a45"
      },
      "source": [
        "import matplotlib.pyplot as plt\n",
        "import seaborn as sns\n",
        "\n",
        "# Group by Weather_Condition and calculate the mean Severity\n",
        "severity_by_weather = df.groupby('Weather_Condition')['Severity'].mean().sort_values(ascending=False)\n",
        "\n",
        "# Create a bar plot\n",
        "plt.figure(figsize=(12, 8))\n",
        "sns.barplot(x=severity_by_weather.index, y=severity_by_weather.values, palette='viridis')\n",
        "plt.xticks(rotation=90)\n",
        "plt.xlabel('Weather Condition')\n",
        "plt.ylabel('Average Severity')\n",
        "plt.title('Average Accident Severity by Weather Condition')\n",
        "plt.tight_layout()\n",
        "plt.show()"
      ],
      "execution_count": null,
      "outputs": []
    },
    {
      "cell_type": "code",
      "source": [
        "df.isnull().sum()"
      ],
      "metadata": {
        "id": "UXuwj_nirhOu"
      },
      "execution_count": null,
      "outputs": []
    },
    {
      "cell_type": "code",
      "source": [
        "import numpy as np\n",
        "\n",
        "# Identify numeric and object columns with missing values\n",
        "numeric_cols_with_missing = df.select_dtypes(include=np.number).columns[df.select_dtypes(include=np.number).isnull().any()]\n",
        "object_cols_with_missing = df.select_dtypes(include='object').columns[df.select_dtypes(include='object').isnull().any()]\n",
        "\n",
        "# Fill missing values in numeric columns with the mean\n",
        "for col in numeric_cols_with_missing:\n",
        "    df[col] = df[col].fillna(df[col].mean())\n",
        "\n",
        "# Fill missing values in object columns with the mode\n",
        "for col in object_cols_with_missing:\n",
        "    df[col] = df[col].fillna(df[col].mode()[0])\n",
        "\n",
        "# Verify that there are no more missing values\n",
        "print(\"Missing values after imputation:\")\n",
        "print(df.isnull().sum())"
      ],
      "metadata": {
        "id": "fHt-XEgnzgkZ"
      },
      "execution_count": null,
      "outputs": []
    },
    {
      "cell_type": "code",
      "source": [
        "from sklearn.preprocessing import LabelEncoder\n",
        "\n",
        "# Select object columns\n",
        "object_cols = df.select_dtypes(include='object').columns\n",
        "\n",
        "# Apply Label Encoding\n",
        "label_encoders = {}\n",
        "for col in object_cols:\n",
        "    label_encoders[col] = LabelEncoder()\n",
        "    df[col] = label_encoders[col].fit_transform(df[col])\n",
        "\n",
        "# Display the first few rows of the encoded DataFrame\n",
        "print(\"DataFrame after label encoding:\")\n",
        "display(df.head())"
      ],
      "metadata": {
        "id": "GxUk1C3Q1F5c"
      },
      "execution_count": null,
      "outputs": []
    }
  ]
}