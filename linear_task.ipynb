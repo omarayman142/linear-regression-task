{
  "nbformat": 4,
  "nbformat_minor": 0,
  "metadata": {
    "colab": {
      "provenance": [],
      "authorship_tag": "ABX9TyOrtJHlEQyCwqRUINo8P2Cj",
      "include_colab_link": true
    },
    "kernelspec": {
      "name": "python3",
      "display_name": "Python 3"
    },
    "language_info": {
      "name": "python"
    }
  },
  "cells": [
    {
      "cell_type": "markdown",
      "metadata": {
        "id": "view-in-github",
        "colab_type": "text"
      },
      "source": [
        "<a href=\"https://colab.research.google.com/github/omarayman142/linear-regression-task/blob/main/linear_task.ipynb\" target=\"_parent\"><img src=\"https://colab.research.google.com/assets/colab-badge.svg\" alt=\"Open In Colab\"/></a>"
      ]
    },
    {
      "cell_type": "code",
      "source": [
        "import numpy as np\n",
        "x = np.array([[1, 2], [4, 5], [7, 8], [11, 13]])\n",
        "y = np.array([[7],[8],[9],[10]])\n",
        "ones = np.ones((x.shape[0], 1))\n",
        "x = np.concatenate((ones, x), axis=1)\n",
        "x_t = x.transpose()\n",
        "xx_t = np.dot(x_t, x)\n",
        "xx_t_inv = np.linalg.inv(xx_t)\n",
        "xx_t_invx_t = np.dot(xx_t_inv, x_t)\n",
        "w = np.dot(xx_t_invx_t, y)\n",
        "\n",
        "print(w)"
      ],
      "metadata": {
        "colab": {
          "base_uri": "https://localhost:8080/"
        },
        "id": "-aZyYhyBvJMb",
        "outputId": "b677e209-99fb-4009-a267-6c90a805d11f"
      },
      "execution_count": null,
      "outputs": [
        {
          "output_type": "stream",
          "name": "stdout",
          "text": [
            "[[ 7.        ]\n",
            " [ 0.66666667]\n",
            " [-0.33333333]]\n"
          ]
        }
      ]
    },
    {
      "cell_type": "code",
      "source": [
        "import numpy as np\n",
        "\n",
        "x = np.array([[1, 2], [4, 5], [7, 8], [11, 13]])\n",
        "y = np.array([[7],[8],[9],[10]])\n",
        "ones = np.ones((x.shape[0], 1))\n",
        "x = np.concatenate((ones, x), axis=1)\n",
        "\n",
        "def cal_cost(x,y,theta):\n",
        "  m=len(y)\n",
        "  pred=np.dot(x,theta)\n",
        "  pred = pred.reshape(-1, 1)\n",
        "  cost=(1/(2*m))*np.sum(np.square(pred-y))\n",
        "  return cost\n",
        "\n",
        "def gradient_descent(x, y, alpha=0.01, num_iters=100):\n",
        "  n_features = x.shape[1]\n",
        "  theta = np.zeros((n_features, 1))\n",
        "  m=len(y)\n",
        "  cost_history = []\n",
        "  for i in range(num_iters):\n",
        "    pred = np.dot(x, theta)\n",
        "    error = pred - y\n",
        "    gradient = (1/m) * np.dot(x.T, error)\n",
        "    theta = theta - alpha * gradient\n",
        "    cost=cal_cost(x,y,theta)\n",
        "    cost_history.append(cost)\n",
        "  return theta, cost_history\n",
        "\n",
        "alpha = 0.01\n",
        "iterations = 1000\n",
        "theta, cost_history = gradient_descent(x, y, alpha, iterations)\n",
        "\n",
        "print(\"theta: \")\n",
        "print(theta)\n",
        "print(\"Final Cost: \")\n",
        "print(cost_history[-1])"
      ],
      "metadata": {
        "colab": {
          "base_uri": "https://localhost:8080/"
        },
        "id": "HuF6gD4Zz_z5",
        "outputId": "57bf0df2-edf4-47ee-e04b-8fc4136e444f"
      },
      "execution_count": null,
      "outputs": [
        {
          "output_type": "stream",
          "name": "stdout",
          "text": [
            "theta: \n",
            "[[ 5.44634236]\n",
            " [-1.23684233]\n",
            " [ 1.43871144]]\n",
            "Final Cost: \n",
            "0.11137428875208287\n"
          ]
        }
      ]
    },
    {
      "cell_type": "code",
      "source": [
        "x = np.array([[1, 2], [4, 5], [7, 8], [11, 13]])\n",
        "y = np.array([[7],[8],[9],[10]])\n",
        "ones = np.ones((x.shape[0], 1))\n",
        "x = np.concatenate((ones, x), axis=1)\n",
        "\n",
        "def cal_cost(x,y,theta):\n",
        "  m=len(y)\n",
        "  pred=np.dot(x,theta)\n",
        "  pred = pred.reshape(-1, 1)\n",
        "  cost=(1/(m))*np.sum(np.abs(pred-y))\n",
        "  return cost\n",
        "def subgradient_descent(X, y, alpha=0.01, iterations=1000):\n",
        "    n_features = x.shape[1]\n",
        "    theta = np.zeros((n_features, 1))\n",
        "    m=len(y)\n",
        "    cost_history = []\n",
        "\n",
        "    for _ in range(iterations):\n",
        "        pred= np.dot(X, theta)\n",
        "        errors = pred - y\n",
        "        subgradient = (1/m) * np.dot(X.T, np.sign(errors))\n",
        "        theta -= alpha * subgradient\n",
        "        cost = cal_cost(X, y, theta)\n",
        "        cost_history.append(cost)\n",
        "\n",
        "    return theta, cost_history\n",
        "alpha = 0.01\n",
        "iterations = 1000\n",
        "theta, cost_history = subgradient_descent(x, y, alpha, iterations)\n",
        "\n",
        "print(\"theta: \")\n",
        "print(theta)\n",
        "print(\"Final Cost: \")\n",
        "print(cost_history[-1])"
      ],
      "metadata": {
        "colab": {
          "base_uri": "https://localhost:8080/"
        },
        "id": "Bu7IZVjP3BhI",
        "outputId": "2e31959b-1601-4e91-e6a2-a329af924b6b"
      },
      "execution_count": null,
      "outputs": [
        {
          "output_type": "stream",
          "name": "stdout",
          "text": [
            "theta: \n",
            "[[ 4.51 ]\n",
            " [-0.79 ]\n",
            " [ 1.255]]\n",
            "Final Cost: \n",
            "0.8249999999998581\n"
          ]
        }
      ]
    }
  ]
}